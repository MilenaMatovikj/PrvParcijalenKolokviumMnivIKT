{
 "cells": [
  {
   "cell_type": "markdown",
   "metadata": {},
   "source": [
    "<h1 style=\"text-align: center;background:#fff4f0\">Следење на параметрите на почвата за ефективно наводнување користејќи WSN</h1>\n",
    "<p style=\"text-align: center;background:#fff4f0\"><b style=\"color: blue\">WSN</b> (<i>Безжична мрежа на сензори</i>) го привлече вниманието на истражувачите поради нејзината широка применливост во разни области како што се управување со катастрофи, здравје и мониторинг на животна средина, земјоделство, екологија, индустриска автоматизација и во воени теренски апликации, како надзор на бојното поле, итн. Во земјоделскиот екосистем има теренски континуирано паметно следење на параметрите на почвата како влажност, pH, системи за контрола на наводнување итн. Сето ова може да се мери со користење на WSN со голема крајна прецизност.\n",
    "Во овој труд, предложено е развивање на дизајн за <b style=\"color:blue\">WSN базиран динамички и автоматизиран систем за наводнување и опрема</b>. Овој процес го одржува типот на почвата и софтверот за согледување и контрола во реално време на системот за наводнување во земјоделството. Ефикасноста на системите за наводнување може да се подобри со автоматско растојание и континуирана анализа на параметрите на почвата. Така, добиените податоци се корисни за земјоделскиот сектор, имено управување со штета, управување со наводнување и управување со почва. Со ова решение се намалува потрошувачката на свежа вода и трошоците за наводнување со максимизирање на родот.</p>"
   ]
  },
  {
   "cell_type": "code",
   "execution_count": 1,
   "metadata": {},
   "outputs": [],
   "source": [
    "from IPython.display import HTML"
   ]
  },
  {
   "cell_type": "code",
   "execution_count": 4,
   "metadata": {},
   "outputs": [
    {
     "data": {
      "text/html": [
       "<iframe width=\"1000\" height=\"400\" src=\"https://www.youtube.com/embed/gTORa9OP0CE\" frameborder=\"0\" allowfullscreen></iframe>"
      ],
      "text/plain": [
       "<IPython.core.display.HTML object>"
      ]
     },
     "execution_count": 4,
     "metadata": {},
     "output_type": "execute_result"
    }
   ],
   "source": [
    "HTML('<iframe width=\"1000\" height=\"400\" src=\"https://www.youtube.com/embed/gTORa9OP0CE\" frameborder=\"0\" allowfullscreen></iframe>')"
   ]
  },
  {
   "cell_type": "code",
   "execution_count": 5,
   "metadata": {},
   "outputs": [],
   "source": [
    "from IPython.display import Image"
   ]
  },
  {
   "cell_type": "code",
   "execution_count": 12,
   "metadata": {},
   "outputs": [
    {
     "data": {
      "image/png": "[encoded data removed]",
      "text/plain": [
       "<IPython.core.display.Image object>"
      ]
     },
     "execution_count": 12,
     "metadata": {
      "image/png": {
       "height": 400,
       "width": 500
      }
     },
     "output_type": "execute_result"
    }
   ],
   "source": [
    "Image(\"Desktop/logo.png\", width=500, height=400)"
   ]
  },
  {
   "cell_type": "code",
   "execution_count": null,
   "metadata": {},
   "outputs": [],
   "source": []
  }
 ],
 "metadata": {
  "kernelspec": {
   "display_name": "Python 3",
   "language": "python",
   "name": "python3"
  },
  "language_info": {
   "codemirror_mode": {
    "name": "ipython",
    "version": 3
   },
   "file_extension": ".py",
   "mimetype": "text/x-python",
   "name": "python",
   "nbconvert_exporter": "python",
   "pygments_lexer": "ipython3",
   "version": "3.8.5"
  }
 },
 "nbformat": 4,
 "nbformat_minor": 4
}
